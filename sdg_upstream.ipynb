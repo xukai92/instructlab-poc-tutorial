{
 "cells": [
  {
   "cell_type": "code",
   "execution_count": 1,
   "metadata": {},
   "outputs": [],
   "source": [
    "%load_ext autoreload\n",
    "%autoreload 2"
   ]
  },
  {
   "cell_type": "code",
   "execution_count": 4,
   "metadata": {},
   "outputs": [],
   "source": [
    "from importlib import resources\n",
    "from openai import OpenAI\n",
    "from datasets import Dataset\n",
    "from instructlab.sdg.pipeline import (\n",
    "    FULL_PIPELINES_PACKAGE,\n",
    "    Pipeline,\n",
    "    PipelineContext,\n",
    ")"
   ]
  },
  {
   "cell_type": "markdown",
   "metadata": {},
   "source": [
    "### Steps to run the teacher model \n",
    "Note: This section details using ilab to host the model. But you can use any OpenAI API hosting package\n",
    "* Install instructlab and do `ilab init`\n",
    "* Run `ilab model download`\n",
    "* Run model serve :\n",
    "    ```bash\n",
    "    ilab serve --model-path $HOME/.cache/instructlab/models/mistral-7b-instruct-v0.2.Q4_K_M.gguf\n",
    "    ```\n"
   ]
  },
  {
   "cell_type": "code",
   "execution_count": 10,
   "metadata": {},
   "outputs": [],
   "source": [
    "## Once we have the above teacher model running lets initialize a OpenAI client that will make calls to our local teacher.\n",
    "api_key=\"EMPTY\",\n",
    "base_url=\"http://localhost:8000/v1\"\n",
    "client = OpenAI(\n",
    "    api_key=api_key,\n",
    "    base_url=base_url,\n",
    ")\n",
    "teacher_model = client.models.list().data[0].id"
   ]
  },
  {
   "cell_type": "code",
   "execution_count": 24,
   "metadata": {},
   "outputs": [],
   "source": [
    "## Instantiate the instructlab knowledge generation pipeline\n",
    "model_family = \"mixtral\"\n",
    "context = PipelineContext(\n",
    "            client=client,\n",
    "            model_family=model_family,\n",
    "            model_id=teacher_model,\n",
    "            num_instructions_to_generate=0,\n",
    "            max_num_tokens=2048,\n",
    "        )\n",
    "yaml_path = resources.files(FULL_PIPELINES_PACKAGE).joinpath(\"knowledge.yaml\")\n",
    "knowledge_pipeline = Pipeline.from_file(context, yaml_path)"
   ]
  },
  {
   "cell_type": "markdown",
   "metadata": {},
   "source": [
    "### Adding your document\n",
    "* Use docling to parse your document\n",
    "* Once you have that select in any section from that document and put that in below list"
   ]
  },
  {
   "cell_type": "code",
   "execution_count": 21,
   "metadata": {},
   "outputs": [],
   "source": [
    "documents = [\"\"\"The **tonsils** are a set of lymphoid organs facing into the aerodigestive tract, which is known as Waldeyer's tonsillar ring and consists of the adenoid tonsil or \"\n",
    "    \"pharyngeal tonsil, two tubal tonsils, two palatine tonsils, and the lingual tonsils. These organs play an important role in the immune system. When used unqualified, the term\"\n",
    "    \" most commonly refers specifically to the palatine tonsils, which are two lymphoid organs situated at either side of the back of the human throat. The palatine tonsils and the\"\n",
    "    \" adenoid tonsil are organs consisting of lymphoepithelial tissue located near the oropharynx and nasopharynx parts of the throat\"\"\"]\n"
   ]
  },
  {
   "cell_type": "markdown",
   "metadata": {},
   "source": [
    "### Preparing QNA yaml's seed example\n",
    "* Next copy the seed example from your `qna.yaml`. \n",
    "* In our `qna.yaml` we write a list of seed examples where each element is context + 3 Question-Answers.\n",
    "* Copy one of the context + 3QA and put it below\n",
    "* `icl_document` is the context and `icl_query_x` and `icl_response_x` are the 3 QAs\n",
    "* We will also add the `domain` and `document outline` field from the qna file."
   ]
  },
  {
   "cell_type": "code",
   "execution_count": 22,
   "metadata": {},
   "outputs": [],
   "source": [
    "qna_seed_example = {\n",
    "                \"icl_document\": \"The **tonsils** are a set of lymphoid organs facing into the aerodigestive tract, which is known as Waldeyer's\"\n",
    "                \" tonsillar ring and consists of the adenoid tonsil or pharyngeal tonsil, two tubal tonsils, two palatine tonsils, and the lingual tonsils.\",\n",
    "                \n",
    "                \"icl_query_1\": \"what is the location of the tubal tonsils?\",\n",
    "                \n",
    "                \"icl_response_1\": \"The location of the tubal tonsils is the roof of the pharynx.\",\n",
    "                \n",
    "                \"icl_query_2\": \"How long does the adenoid grow?\",\n",
    "                \n",
    "                \"icl_response_2\": \"The adenoid grows until the age of 5, starts to shrink at the age of 7 and becomes small in adulthood.\",\n",
    "                \n",
    "                \"icl_query_3\": \"What is the immune systems first line of defense against ingested or inhaled foreign pathogens?\",\n",
    "                \n",
    "                \"icl_response_3\": \"The tonsils are the immune systems first line of defense.\",\n",
    "                \n",
    "                \"domain\": \"Anatomy\",\n",
    "                \n",
    "                \"document_outline\": \"Medical description of tonsils\",\n",
    "}"
   ]
  },
  {
   "cell_type": "code",
   "execution_count": null,
   "metadata": {},
   "outputs": [],
   "source": [
    "## Now lets prepare the final dataset for running the generation.\n",
    "knowledge_dataset = []\n",
    "for document in documents:\n",
    "    row = qna_seed_example.copy()\n",
    "    row.update({'document': document})\n",
    "    knowledge_dataset.append(row)\n",
    "knowledge_dataset = Dataset.from_list(knowledge_dataset)"
   ]
  },
  {
   "cell_type": "code",
   "execution_count": 25,
   "metadata": {},
   "outputs": [
    {
     "name": "stderr",
     "output_type": "stream",
     "text": [
      "gen_spellcheck Prompt Generation: 100%|██████████| 1/1 [00:06<00:00,  6.61s/it]\n",
      "gen_knowledge Prompt Generation: 100%|██████████| 2/2 [00:41<00:00, 21.00s/it]\n",
      "eval_faithfulness_qa_pair Prompt Generation: 100%|██████████| 8/8 [00:32<00:00,  4.04s/it]\n",
      "eval_faithfulness_qa_pair Prompt Generation: 100%|██████████| 5/5 [00:20<00:00,  4.03s/it]\n",
      "Map (num_proc=8): 100%|██████████| 8/8 [00:00<00:00, 56.69 examples/s]\n",
      "Filter (num_proc=8): 100%|██████████| 8/8 [00:00<00:00, 73.59 examples/s]\n",
      "num_proc must be <= 5. Reducing num_proc to 5 for dataset of size 5.\n",
      "Map (num_proc=5): 100%|██████████| 5/5 [00:00<00:00, 42.70 examples/s]\n",
      "num_proc must be <= 5. Reducing num_proc to 5 for dataset of size 5.\n",
      "Filter (num_proc=5): 100%|██████████| 5/5 [00:00<00:00, 48.04 examples/s]\n",
      "eval_relevancy_qa_pair Prompt Generation: 100%|██████████| 8/8 [00:37<00:00,  4.73s/it]\n",
      "eval_relevancy_qa_pair Prompt Generation: 100%|██████████| 3/3 [00:12<00:00,  4.03s/it]\n",
      "Map (num_proc=8): 100%|██████████| 8/8 [00:00<00:00, 57.76 examples/s]\n",
      "Filter (num_proc=8): 100%|██████████| 8/8 [00:00<00:00, 70.43 examples/s]\n",
      "num_proc must be <= 3. Reducing num_proc to 3 for dataset of size 3.\n",
      "Map (num_proc=3): 100%|██████████| 3/3 [00:00<00:00, 27.87 examples/s]\n",
      "num_proc must be <= 3. Reducing num_proc to 3 for dataset of size 3.\n",
      "Filter (num_proc=3): 100%|██████████| 3/3 [00:00<00:00, 32.80 examples/s]\n",
      "eval_verify_question Prompt Generation: 100%|██████████| 8/8 [00:31<00:00,  3.99s/it]\n",
      "eval_verify_question Prompt Generation: 100%|██████████| 2/2 [00:07<00:00,  3.71s/it]\n",
      "Map (num_proc=8): 100%|██████████| 8/8 [00:00<00:00, 59.93 examples/s]\n",
      "Filter (num_proc=8): 100%|██████████| 8/8 [00:00<00:00, 71.67 examples/s]\n",
      "num_proc must be <= 2. Reducing num_proc to 2 for dataset of size 2.\n",
      "Map (num_proc=2): 100%|██████████| 2/2 [00:00<00:00, 20.80 examples/s]\n",
      "num_proc must be <= 2. Reducing num_proc to 2 for dataset of size 2.\n",
      "Filter (num_proc=2): 100%|██████████| 2/2 [00:00<00:00, 23.01 examples/s]\n"
     ]
    }
   ],
   "source": [
    "## Run the generation\n",
    "samples = knowledge_pipeline.generate(knowledge_dataset)"
   ]
  },
  {
   "cell_type": "code",
   "execution_count": 26,
   "metadata": {},
   "outputs": [
    {
     "name": "stdout",
     "output_type": "stream",
     "text": [
      "Document:\n",
      "The tonsils are a set of lymphoid organs facing into the aerodigestive tract, which is known as Waldeyer's tonsillar ring and consists of the adenoid tonsil or pharyngeal tonsil, two tubal tonsils, two palatine tonsils, and the lingual tonsils. These organs play an important role in the immune system. When used unqualified, the term most commonly refers specifically to the palatine tonsils, which are two lymphoid organs situated at either side of the back of the human throat. The palatine tonsils and the adenoid tonsil are organs consisting of lymphoepithelial tissue located near the oropharynx and nasopharynx parts of the throat.\n",
      "****************************************\n",
      "Which part of the throat do the palatine tonsils reside in?\n",
      "****************************************\n",
      "The palatine tonsils are situated at either side of the back of the human throat.\n",
      "\n"
     ]
    }
   ],
   "source": [
    "print(samples[0]['document'])\n",
    "print(\"****************************************\")\n",
    "print(samples[0]['question'])\n",
    "print(\"****************************************\")\n",
    "print(samples[0]['response'])"
   ]
  }
 ],
 "metadata": {
  "kernelspec": {
   "display_name": "Python 3",
   "language": "python",
   "name": "python3"
  },
  "language_info": {
   "codemirror_mode": {
    "name": "ipython",
    "version": 3
   },
   "file_extension": ".py",
   "mimetype": "text/x-python",
   "name": "python",
   "nbconvert_exporter": "python",
   "pygments_lexer": "ipython3",
   "version": "3.10.16"
  }
 },
 "nbformat": 4,
 "nbformat_minor": 2
}
